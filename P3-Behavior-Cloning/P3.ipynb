{
 "cells": [
  {
   "cell_type": "code",
   "execution_count": 60,
   "metadata": {
    "collapsed": false
   },
   "outputs": [],
   "source": [
    "#importing some useful packages\n",
    "import pickle\n",
    "import cv2\n",
    "import math\n",
    "import time\n",
    "import h5py\n",
    "import json\n",
    "import os\n",
    "import csv\n",
    "import random\n",
    "import numpy as np\n",
    "import pandas as pd\n",
    "import math\n",
    "import matplotlib.image as mpimg\n",
    "import matplotlib.pyplot as plt\n",
    "\n",
    "from sklearn.model_selection import train_test_split\n",
    "from sklearn.utils import shuffle\n",
    "from sklearn import preprocessing\n",
    "\n",
    "from keras.models import Sequential\n",
    "from keras.layers.core import Dense, Dropout, Activation, Flatten, Lambda\n",
    "from keras.layers import Convolution2D, MaxPooling2D\n",
    "from keras.preprocessing.image import ImageDataGenerator\n",
    "from keras.optimizers import Adam\n",
    "from keras.callbacks import ModelCheckpoint\n",
    "from keras.utils import np_utils\n",
    "\n",
    "import theano\n",
    "%matplotlib inline"
   ]
  },
  {
   "cell_type": "code",
   "execution_count": 61,
   "metadata": {
    "collapsed": false
   },
   "outputs": [
    {
     "name": "stdout",
     "output_type": "stream",
     "text": [
      "10333\n",
      "12\n",
      "<class 'numpy.ndarray'>\n",
      "(20418,)\n",
      "(20418,)\n"
     ]
    }
   ],
   "source": [
    "df = pd.read_csv('driving_log_Arun.csv')\n",
    "print(len(df))\n",
    "#if (df['center'].values[0][16:18] == '12'):\n",
    "#    print ('yes')\n",
    "#print(df[df['center'].values[0][16:18] == '12'])\n",
    "df = df.drop(df[df['steering'] == 0].sample(frac=0.60).index)\n",
    "#repeat = 4\n",
    "#df = pd.concat(df[df['center'].values[16:18] == '02']*repeat)\n",
    "center = df[[0]]\n",
    "\n",
    "center = np.squeeze(center.values)\n",
    "print(center[0][16:18])\n",
    "left = df[[1]]\n",
    "left = np.squeeze(left.values)\n",
    "right = df[[2]]\n",
    "right = np.squeeze(right.values)\n",
    "steering = df[[3]]\n",
    "steering = np.squeeze(steering.values)\n",
    "correction = 0.25\n",
    "steering_left = steering + correction\n",
    "steering_right = steering - correction\n",
    "print(type(center))\n",
    "\n",
    "images = np.concatenate((np.concatenate((center, left)), right))\n",
    "steer = np.concatenate((np.concatenate((steering, steering_left)), steering_right))\n",
    "print(images.shape)\n",
    "print (steer.shape)\n",
    "batch_size = 10\n",
    "\n",
    "def remove_spaces(path):\n",
    "    len_path = len(path)\n",
    "    for i in range(len_path):\n",
    "        if (path[i][0] == ' '):\n",
    "            path[i] = path[i][1:]\n",
    "    return path\n",
    "\n",
    "images = remove_spaces(images)\n",
    "row_size = 30\n",
    "col_size = 120\n",
    "ch = 3\n",
    "#print(images[])"
   ]
  },
  {
   "cell_type": "code",
   "execution_count": 62,
   "metadata": {
    "collapsed": true
   },
   "outputs": [],
   "source": [
    "datagen = ImageDataGenerator(\n",
    "    featurewise_center=False,\n",
    "    featurewise_std_normalization=False,\n",
    "    horizontal_flip=True)\n",
    "\n"
   ]
  },
  {
   "cell_type": "code",
   "execution_count": 63,
   "metadata": {
    "collapsed": false
   },
   "outputs": [],
   "source": [
    "def data_generator(Images,steering,training=0,batch_size=10,threshold=0.25):\n",
    "    ctr=0\n",
    "\n",
    "    while( (training and ctr<len(steering) ) or (not training) ) :\n",
    "    \n",
    "        if ((not training) and (ctr>=len(steering))):\n",
    "            ctr=0\n",
    "\n",
    "        data,labels=preprocess(Images[ctr:ctr+batch_size],steering[ctr:ctr+batch_size],threshold)    \n",
    "        ctr +=batch_size\n",
    "\n",
    "        yield data,labels\n",
    "        \n",
    "def crop(img):\n",
    "    #new_size_col=120\n",
    "    #new_size_row=30\n",
    "    img=img[60:140,:,:]\n",
    "    img=cv2.resize(img,(col_size,row_size), interpolation=cv2.INTER_AREA)\n",
    "    return img\n",
    "        \n",
    "def preprocess(Images,steering,threshold):\n",
    "    row,col,ch=(mpimg.imread(Images[0])).shape\n",
    "\n",
    "    img = []\n",
    "    steer = []\n",
    "        \n",
    "    for i,path in enumerate(Images):\n",
    "\n",
    "        I=mpimg.imread(path)\n",
    "        I = I/255 - 0.5\n",
    "        #if(np.random.randint(2)):\n",
    "        #    I=augment_brightness_camera_images(I)\n",
    "\n",
    "            \n",
    "        img.append(crop(I))\n",
    "        steer.append(steering[i])\n",
    "\n",
    "        if steering[i]<-threshold or steering[i]>threshold :\n",
    "            I=np.fliplr(I)\n",
    "            img.append(crop(I))\n",
    "            steer.append(-steering[i])\n",
    "\n",
    "    return np.asarray(img),np.asarray(steer)"
   ]
  },
  {
   "cell_type": "code",
   "execution_count": 64,
   "metadata": {
    "collapsed": false
   },
   "outputs": [
    {
     "name": "stdout",
     "output_type": "stream",
     "text": [
      "[-0.4141951   0.4141951  -0.4141951   0.4141951   0.1275214   0.26391724\n",
      " -0.26391724 -0.03891354  0.          0.1287396  -0.3952064   0.3952064\n",
      "  0.25       -0.5755992   0.5755992 ]\n",
      "[ 0.0904655  -0.0160065  -0.05975719  0.4457194  -0.4457194  -0.25       -0.25\n",
      "  0.         -0.25       -0.25        0.32132844 -0.32132844]\n"
     ]
    },
    {
     "data": {
      "text/plain": [
       "'\\nX = np.zeros(shape = (len(X_train), row_size, col_size, 3))\\nfor i in range(len(X_train)):\\n    img = mpimg.imread(X_train[i])\\n    img = img/255 - 0.5\\n    X[i] = crop(img)\\nXtest = np.zeros(shape = (len(X_test), row_size, col_size, 3))\\nfor i in range(len(X_test)):\\n    img = mpimg.imread(X_test[i])\\n    img = img/255 - 0.5\\n    Xtest[i] = crop(img)\\n'"
      ]
     },
     "execution_count": 64,
     "metadata": {},
     "output_type": "execute_result"
    }
   ],
   "source": [
    "X_train, X_test, y_train, y_test = train_test_split(images, steer, test_size = 0.2, random_state = 0)\n",
    "\n",
    "train_data = data_generator(X_train, y_train)\n",
    "batch_x, batch_y = next(train_data)\n",
    "print(batch_y)\n",
    "batch_x, batch_y = next(train_data)\n",
    "print(batch_y)\n",
    "\"\"\"\n",
    "X = np.zeros(shape = (len(X_train), row_size, col_size, 3))\n",
    "for i in range(len(X_train)):\n",
    "    img = mpimg.imread(X_train[i])\n",
    "    img = img/255 - 0.5\n",
    "    X[i] = crop(img)\n",
    "Xtest = np.zeros(shape = (len(X_test), row_size, col_size, 3))\n",
    "for i in range(len(X_test)):\n",
    "    img = mpimg.imread(X_test[i])\n",
    "    img = img/255 - 0.5\n",
    "    Xtest[i] = crop(img)\n",
    "\"\"\""
   ]
  },
  {
   "cell_type": "code",
   "execution_count": 65,
   "metadata": {
    "collapsed": false
   },
   "outputs": [],
   "source": [
    "from keras.models import Sequential\n",
    "from keras.layers import Dense, Input, Activation, Convolution2D, Flatten, MaxPooling2D, Dropout\n",
    "\n",
    "model = Sequential()\n",
    "#model.add(Lambda(lambda x: x/255 - 0.5, input_shape=(row_size, col_size, 3)))\n",
    "model.add(Convolution2D(64, 3, 3, border_mode = 'valid', input_shape=(row_size, col_size, 3)))\n",
    "model.add(Activation('elu'))\n",
    "model.add(MaxPooling2D(pool_size=(2, 2)))\n",
    "model.add(Convolution2D(64, 3, 3))\n",
    "model.add(Activation('elu'))\n",
    "model.add(MaxPooling2D(pool_size=(2, 2)))\n",
    "model.add(Dropout(0.5))\n",
    "model.add(Convolution2D(128, 3, 3))\n",
    "model.add(Activation('elu'))\n",
    "model.add(MaxPooling2D(pool_size = (2, 2)))\n",
    "model.add(Dropout(0.5))\n",
    "\n",
    "model.add(Flatten())\n",
    "model.add(Dense(1024))\n",
    "model.add(Activation('elu'))\n",
    "model.add(Dense(10))\n",
    "model.add(Activation('elu'))\n",
    "model.add(Dropout(0.5))\n",
    "\n",
    "model.add(Dense(1))\n",
    "#model.add(Activation('softmax'))"
   ]
  },
  {
   "cell_type": "code",
   "execution_count": 66,
   "metadata": {
    "collapsed": false
   },
   "outputs": [
    {
     "name": "stdout",
     "output_type": "stream",
     "text": [
      "____________________________________________________________________________________________________\n",
      "Layer (type)                     Output Shape          Param #     Connected to                     \n",
      "====================================================================================================\n",
      "convolution2d_22 (Convolution2D) (None, 28, 118, 64)   1792        convolution2d_input_7[0][0]      \n",
      "____________________________________________________________________________________________________\n",
      "activation_36 (Activation)       (None, 28, 118, 64)   0           convolution2d_22[0][0]           \n",
      "____________________________________________________________________________________________________\n",
      "maxpooling2d_22 (MaxPooling2D)   (None, 14, 59, 64)    0           activation_36[0][0]              \n",
      "____________________________________________________________________________________________________\n",
      "convolution2d_23 (Convolution2D) (None, 12, 57, 64)    36928       maxpooling2d_22[0][0]            \n",
      "____________________________________________________________________________________________________\n",
      "activation_37 (Activation)       (None, 12, 57, 64)    0           convolution2d_23[0][0]           \n",
      "____________________________________________________________________________________________________\n",
      "maxpooling2d_23 (MaxPooling2D)   (None, 6, 28, 64)     0           activation_37[0][0]              \n",
      "____________________________________________________________________________________________________\n",
      "dropout_22 (Dropout)             (None, 6, 28, 64)     0           maxpooling2d_23[0][0]            \n",
      "____________________________________________________________________________________________________\n",
      "convolution2d_24 (Convolution2D) (None, 4, 26, 128)    73856       dropout_22[0][0]                 \n",
      "____________________________________________________________________________________________________\n",
      "activation_38 (Activation)       (None, 4, 26, 128)    0           convolution2d_24[0][0]           \n",
      "____________________________________________________________________________________________________\n",
      "maxpooling2d_24 (MaxPooling2D)   (None, 2, 13, 128)    0           activation_38[0][0]              \n",
      "____________________________________________________________________________________________________\n",
      "dropout_23 (Dropout)             (None, 2, 13, 128)    0           maxpooling2d_24[0][0]            \n",
      "____________________________________________________________________________________________________\n",
      "flatten_8 (Flatten)              (None, 3328)          0           dropout_23[0][0]                 \n",
      "____________________________________________________________________________________________________\n",
      "dense_22 (Dense)                 (None, 1024)          3408896     flatten_8[0][0]                  \n",
      "____________________________________________________________________________________________________\n",
      "activation_39 (Activation)       (None, 1024)          0           dense_22[0][0]                   \n",
      "____________________________________________________________________________________________________\n",
      "dense_23 (Dense)                 (None, 10)            10250       activation_39[0][0]              \n",
      "____________________________________________________________________________________________________\n",
      "activation_40 (Activation)       (None, 10)            0           dense_23[0][0]                   \n",
      "____________________________________________________________________________________________________\n",
      "dropout_24 (Dropout)             (None, 10)            0           activation_40[0][0]              \n",
      "____________________________________________________________________________________________________\n",
      "dense_24 (Dense)                 (None, 1)             11          dropout_24[0][0]                 \n",
      "====================================================================================================\n",
      "Total params: 3,531,733\n",
      "Trainable params: 3,531,733\n",
      "Non-trainable params: 0\n",
      "____________________________________________________________________________________________________\n",
      "Epoch 1/15\n"
     ]
    },
    {
     "name": "stderr",
     "output_type": "stream",
     "text": [
      "/home/carnd/anaconda3/envs/carnd-term1/lib/python3.5/site-packages/keras/engine/training.py:1569: UserWarning: Epoch comprised more than `samples_per_epoch` samples, which might affect learning results. Set `samples_per_epoch` correctly to avoid this warning.\n",
      "  warnings.warn('Epoch comprised more than '\n"
     ]
    },
    {
     "name": "stdout",
     "output_type": "stream",
     "text": [
      "52s - loss: 0.1276 - mean_squared_error: 0.1276 - val_loss: 0.0399 - val_mean_squared_error: 0.0399\n",
      "Epoch 2/15\n",
      "45s - loss: 0.0509 - mean_squared_error: 0.0509 - val_loss: 0.0366 - val_mean_squared_error: 0.0366\n",
      "Epoch 3/15\n",
      "45s - loss: 0.0436 - mean_squared_error: 0.0436 - val_loss: 0.0313 - val_mean_squared_error: 0.0313\n",
      "Epoch 4/15\n",
      "45s - loss: 0.0419 - mean_squared_error: 0.0419 - val_loss: 0.0272 - val_mean_squared_error: 0.0272\n",
      "Epoch 5/15\n",
      "45s - loss: 0.0397 - mean_squared_error: 0.0397 - val_loss: 0.0303 - val_mean_squared_error: 0.0303\n",
      "Epoch 6/15\n",
      "45s - loss: 0.0375 - mean_squared_error: 0.0375 - val_loss: 0.0236 - val_mean_squared_error: 0.0236\n",
      "Epoch 7/15\n",
      "46s - loss: 0.0370 - mean_squared_error: 0.0370 - val_loss: 0.0270 - val_mean_squared_error: 0.0270\n",
      "Epoch 8/15\n",
      "45s - loss: 0.0357 - mean_squared_error: 0.0357 - val_loss: 0.0267 - val_mean_squared_error: 0.0267\n",
      "Epoch 9/15\n",
      "45s - loss: 0.0350 - mean_squared_error: 0.0350 - val_loss: 0.0250 - val_mean_squared_error: 0.0250\n",
      "Epoch 10/15\n",
      "45s - loss: 0.0343 - mean_squared_error: 0.0343 - val_loss: 0.0258 - val_mean_squared_error: 0.0258\n",
      "Epoch 11/15\n",
      "45s - loss: 0.0338 - mean_squared_error: 0.0338 - val_loss: 0.0234 - val_mean_squared_error: 0.0234\n",
      "Epoch 12/15\n",
      "45s - loss: 0.0324 - mean_squared_error: 0.0324 - val_loss: 0.0246 - val_mean_squared_error: 0.0246\n",
      "Epoch 13/15\n",
      "45s - loss: 0.0321 - mean_squared_error: 0.0321 - val_loss: 0.0231 - val_mean_squared_error: 0.0231\n",
      "Epoch 14/15\n",
      "45s - loss: 0.0323 - mean_squared_error: 0.0323 - val_loss: 0.0238 - val_mean_squared_error: 0.0238\n",
      "Epoch 15/15\n",
      "45s - loss: 0.0314 - mean_squared_error: 0.0314 - val_loss: 0.0246 - val_mean_squared_error: 0.0246\n"
     ]
    },
    {
     "data": {
      "text/plain": [
       "'\\nmodel.fit_generator(datagen.flow(X, y_train, batch_size=128),\\n                    samples_per_epoch=len(X_train), validation_data = datagen.flow(Xtest, y_test, batch_size=128),\\n                    nb_val_samples = len(Xtest), nb_epoch = 15, verbose = 2)\\n'"
      ]
     },
     "execution_count": 66,
     "metadata": {},
     "output_type": "execute_result"
    }
   ],
   "source": [
    "model.summary()\n",
    "\n",
    "'''\n",
    "model.compile(optimizer='rmsprop',\n",
    "          loss='binary_crossentropy',\n",
    "          metrics=['accuracy'])\n",
    "'''\n",
    "\n",
    "model.compile(loss='mse',\n",
    "              optimizer=Adam(lr = 0.001),\n",
    "              metrics=['mean_squared_error'])\n",
    "\"\"\"\n",
    "history = model.fit(data_generator(X_train,y_train,training=0,batch_size=128),\n",
    "                    samples_per_epoch=len(y_train),\n",
    "                    validation_data=data_generator(X_test,y_test,training=0,batch_size=128),\n",
    "                    nb_val_samples=len(y_test), nb_epoch=10, verbose=1)\n",
    "\"\"\"\n",
    "model.fit_generator(data_generator(X_train,y_train,training=0,batch_size=64),\n",
    "                    samples_per_epoch=len(y_train),\n",
    "                    validation_data=data_generator(X_test,y_test,training=0,batch_size=64),\n",
    "                    nb_val_samples=len(y_test),                    \n",
    "                    nb_epoch=15,\n",
    "                    verbose=2)\n",
    "\"\"\"\n",
    "model.fit_generator(datagen.flow(X, y_train, batch_size=128),\n",
    "                    samples_per_epoch=len(X_train), validation_data = datagen.flow(Xtest, y_test, batch_size=128),\n",
    "                    nb_val_samples = len(Xtest), nb_epoch = 15, verbose = 2)\n",
    "\"\"\""
   ]
  },
  {
   "cell_type": "code",
   "execution_count": 67,
   "metadata": {
    "collapsed": true
   },
   "outputs": [],
   "source": [
    "model.save('model.h5')"
   ]
  },
  {
   "cell_type": "code",
   "execution_count": 2,
   "metadata": {
    "collapsed": false
   },
   "outputs": [
    {
     "name": "stdout",
     "output_type": "stream",
     "text": [
      "1861\n",
      "(100, 160, 320, 9)\n",
      "(100,)\n"
     ]
    }
   ],
   "source": [
    "#reading in an image\n",
    "log = pd.read_csv('driving_log.csv')\n",
    "X = []\n",
    "print(len(log))\n",
    "for n in range(100):\n",
    "    img = mpimg.imread(log.ix[n][0][27:])\n",
    "    left = mpimg.imread(log.ix[n][1][28:])\n",
    "    right = mpimg.imread(log.ix[n][2][28:])\n",
    "    new = np.concatenate((np.concatenate((left,img), axis = 2), right), axis = 2)\n",
    "    new = new/255 - 0.5\n",
    "    X.append(new)\n",
    "X = np.asarray(X)\n",
    "X_val = X\n",
    "print(X.shape)\n",
    "Y = np.asarray(log.ix[:99,3])\n",
    "Y_val = Y\n",
    "print(Y.shape)"
   ]
  },
  {
   "cell_type": "code",
   "execution_count": 28,
   "metadata": {
    "collapsed": false
   },
   "outputs": [],
   "source": [
    "from keras.models import Sequential\n",
    "from keras.layers import Dense, Input, Activation, Convolution2D, Flatten, MaxPooling2D, Dropout\n",
    "\n",
    "model = Sequential()\n",
    "model.add(Convolution2D(32, 3, 3, border_mode = 'valid', input_shape = (160, 320, 9)))\n",
    "model.add(Activation('relu'))\n",
    "model.add(MaxPooling2D(pool_size=(2, 2)))\n",
    "model.add(Convolution2D(64, 3, 3))\n",
    "model.add(Activation('relu'))\n",
    "model.add(MaxPooling2D(pool_size=(2, 2)))\n",
    "model.add(Dropout(0.5))\n",
    "model.add(Convolution2D(128, 3, 3))\n",
    "model.add(Activation('relu'))\n",
    "#model.add(MaxPooling2D(pool_size = (2, 2)))\n",
    "model.add(Dropout(0.5))\n",
    "\n",
    "model.add(Flatten())\n",
    "model.add(Dense(512))\n",
    "model.add(Activation('relu'))\n",
    "model.add(Dropout(0.5))\n",
    "\n",
    "model.add(Dense(1))\n",
    "model.add(Activation('softmax'))"
   ]
  },
  {
   "cell_type": "code",
   "execution_count": 29,
   "metadata": {
    "collapsed": false
   },
   "outputs": [
    {
     "name": "stdout",
     "output_type": "stream",
     "text": [
      "____________________________________________________________________________________________________\n",
      "Layer (type)                     Output Shape          Param #     Connected to                     \n",
      "====================================================================================================\n",
      "convolution2d_10 (Convolution2D) (None, 158, 318, 32)  2624        convolution2d_input_4[0][0]      \n",
      "____________________________________________________________________________________________________\n",
      "activation_13 (Activation)       (None, 158, 318, 32)  0           convolution2d_10[0][0]           \n",
      "____________________________________________________________________________________________________\n",
      "maxpooling2d_7 (MaxPooling2D)    (None, 79, 159, 32)   0           activation_13[0][0]              \n",
      "____________________________________________________________________________________________________\n",
      "convolution2d_11 (Convolution2D) (None, 77, 157, 64)   18496       maxpooling2d_7[0][0]             \n",
      "____________________________________________________________________________________________________\n",
      "activation_14 (Activation)       (None, 77, 157, 64)   0           convolution2d_11[0][0]           \n",
      "____________________________________________________________________________________________________\n",
      "maxpooling2d_8 (MaxPooling2D)    (None, 38, 78, 64)    0           activation_14[0][0]              \n",
      "____________________________________________________________________________________________________\n",
      "dropout_7 (Dropout)              (None, 38, 78, 64)    0           maxpooling2d_8[0][0]             \n",
      "____________________________________________________________________________________________________\n",
      "convolution2d_12 (Convolution2D) (None, 36, 76, 128)   73856       dropout_7[0][0]                  \n",
      "____________________________________________________________________________________________________\n",
      "activation_15 (Activation)       (None, 36, 76, 128)   0           convolution2d_12[0][0]           \n",
      "____________________________________________________________________________________________________\n",
      "dropout_8 (Dropout)              (None, 36, 76, 128)   0           activation_15[0][0]              \n",
      "____________________________________________________________________________________________________\n",
      "flatten_4 (Flatten)              (None, 350208)        0           dropout_8[0][0]                  \n",
      "____________________________________________________________________________________________________\n",
      "dense_4 (Dense)                  (None, 512)           179307008   flatten_4[0][0]                  \n",
      "____________________________________________________________________________________________________\n",
      "activation_16 (Activation)       (None, 512)           0           dense_4[0][0]                    \n",
      "____________________________________________________________________________________________________\n",
      "dropout_9 (Dropout)              (None, 512)           0           activation_16[0][0]              \n",
      "____________________________________________________________________________________________________\n",
      "dense_5 (Dense)                  (None, 1)             513         dropout_9[0][0]                  \n",
      "____________________________________________________________________________________________________\n",
      "activation_17 (Activation)       (None, 1)             0           dense_5[0][0]                    \n",
      "====================================================================================================\n",
      "Total params: 179,402,497\n",
      "Trainable params: 179,402,497\n",
      "Non-trainable params: 0\n",
      "____________________________________________________________________________________________________\n",
      "Train on 100 samples, validate on 100 samples\n",
      "Epoch 1/10\n"
     ]
    },
    {
     "ename": "KeyboardInterrupt",
     "evalue": "",
     "output_type": "error",
     "traceback": [
      "\u001b[0;31m---------------------------------------------------------------------------\u001b[0m",
      "\u001b[0;31mKeyboardInterrupt\u001b[0m                         Traceback (most recent call last)",
      "\u001b[0;32m<ipython-input-29-7543f715b68e>\u001b[0m in \u001b[0;36m<module>\u001b[0;34m()\u001b[0m\n\u001b[1;32m      6\u001b[0m history = model.fit(X, Y, \n\u001b[1;32m      7\u001b[0m                     \u001b[0mbatch_size\u001b[0m\u001b[1;33m=\u001b[0m\u001b[1;36m32\u001b[0m\u001b[1;33m,\u001b[0m \u001b[0mnb_epoch\u001b[0m\u001b[1;33m=\u001b[0m\u001b[1;36m10\u001b[0m\u001b[1;33m,\u001b[0m \u001b[0mverbose\u001b[0m\u001b[1;33m=\u001b[0m\u001b[1;36m1\u001b[0m\u001b[1;33m,\u001b[0m\u001b[1;33m\u001b[0m\u001b[0m\n\u001b[0;32m----> 8\u001b[0;31m                     validation_data=(X_val,Y_val))\n\u001b[0m",
      "\u001b[0;32mc:\\users\\asesham\\anaconda3\\lib\\site-packages\\keras\\keras\\models.py\u001b[0m in \u001b[0;36mfit\u001b[0;34m(self, x, y, batch_size, nb_epoch, verbose, callbacks, validation_split, validation_data, shuffle, class_weight, sample_weight, initial_epoch, **kwargs)\u001b[0m\n\u001b[1;32m    669\u001b[0m                               \u001b[0mclass_weight\u001b[0m\u001b[1;33m=\u001b[0m\u001b[0mclass_weight\u001b[0m\u001b[1;33m,\u001b[0m\u001b[1;33m\u001b[0m\u001b[0m\n\u001b[1;32m    670\u001b[0m                               \u001b[0msample_weight\u001b[0m\u001b[1;33m=\u001b[0m\u001b[0msample_weight\u001b[0m\u001b[1;33m,\u001b[0m\u001b[1;33m\u001b[0m\u001b[0m\n\u001b[0;32m--> 671\u001b[0;31m                               initial_epoch=initial_epoch)\n\u001b[0m\u001b[1;32m    672\u001b[0m \u001b[1;33m\u001b[0m\u001b[0m\n\u001b[1;32m    673\u001b[0m     def evaluate(self, x, y, batch_size=32, verbose=1,\n",
      "\u001b[0;32mc:\\users\\asesham\\anaconda3\\lib\\site-packages\\keras\\keras\\engine\\training.py\u001b[0m in \u001b[0;36mfit\u001b[0;34m(self, x, y, batch_size, nb_epoch, verbose, callbacks, validation_split, validation_data, shuffle, class_weight, sample_weight, initial_epoch)\u001b[0m\n\u001b[1;32m   1142\u001b[0m                               \u001b[0mval_f\u001b[0m\u001b[1;33m=\u001b[0m\u001b[0mval_f\u001b[0m\u001b[1;33m,\u001b[0m \u001b[0mval_ins\u001b[0m\u001b[1;33m=\u001b[0m\u001b[0mval_ins\u001b[0m\u001b[1;33m,\u001b[0m \u001b[0mshuffle\u001b[0m\u001b[1;33m=\u001b[0m\u001b[0mshuffle\u001b[0m\u001b[1;33m,\u001b[0m\u001b[1;33m\u001b[0m\u001b[0m\n\u001b[1;32m   1143\u001b[0m                               \u001b[0mcallback_metrics\u001b[0m\u001b[1;33m=\u001b[0m\u001b[0mcallback_metrics\u001b[0m\u001b[1;33m,\u001b[0m\u001b[1;33m\u001b[0m\u001b[0m\n\u001b[0;32m-> 1144\u001b[0;31m                               initial_epoch=initial_epoch)\n\u001b[0m\u001b[1;32m   1145\u001b[0m \u001b[1;33m\u001b[0m\u001b[0m\n\u001b[1;32m   1146\u001b[0m     \u001b[1;32mdef\u001b[0m \u001b[0mevaluate\u001b[0m\u001b[1;33m(\u001b[0m\u001b[0mself\u001b[0m\u001b[1;33m,\u001b[0m \u001b[0mx\u001b[0m\u001b[1;33m,\u001b[0m \u001b[0my\u001b[0m\u001b[1;33m,\u001b[0m \u001b[0mbatch_size\u001b[0m\u001b[1;33m=\u001b[0m\u001b[1;36m32\u001b[0m\u001b[1;33m,\u001b[0m \u001b[0mverbose\u001b[0m\u001b[1;33m=\u001b[0m\u001b[1;36m1\u001b[0m\u001b[1;33m,\u001b[0m \u001b[0msample_weight\u001b[0m\u001b[1;33m=\u001b[0m\u001b[1;32mNone\u001b[0m\u001b[1;33m)\u001b[0m\u001b[1;33m:\u001b[0m\u001b[1;33m\u001b[0m\u001b[0m\n",
      "\u001b[0;32mc:\\users\\asesham\\anaconda3\\lib\\site-packages\\keras\\keras\\engine\\training.py\u001b[0m in \u001b[0;36m_fit_loop\u001b[0;34m(self, f, ins, out_labels, batch_size, nb_epoch, verbose, callbacks, val_f, val_ins, shuffle, callback_metrics, initial_epoch)\u001b[0m\n\u001b[1;32m    842\u001b[0m                 \u001b[0mbatch_logs\u001b[0m\u001b[1;33m[\u001b[0m\u001b[1;34m'size'\u001b[0m\u001b[1;33m]\u001b[0m \u001b[1;33m=\u001b[0m \u001b[0mlen\u001b[0m\u001b[1;33m(\u001b[0m\u001b[0mbatch_ids\u001b[0m\u001b[1;33m)\u001b[0m\u001b[1;33m\u001b[0m\u001b[0m\n\u001b[1;32m    843\u001b[0m                 \u001b[0mcallbacks\u001b[0m\u001b[1;33m.\u001b[0m\u001b[0mon_batch_begin\u001b[0m\u001b[1;33m(\u001b[0m\u001b[0mbatch_index\u001b[0m\u001b[1;33m,\u001b[0m \u001b[0mbatch_logs\u001b[0m\u001b[1;33m)\u001b[0m\u001b[1;33m\u001b[0m\u001b[0m\n\u001b[0;32m--> 844\u001b[0;31m                 \u001b[0mouts\u001b[0m \u001b[1;33m=\u001b[0m \u001b[0mf\u001b[0m\u001b[1;33m(\u001b[0m\u001b[0mins_batch\u001b[0m\u001b[1;33m)\u001b[0m\u001b[1;33m\u001b[0m\u001b[0m\n\u001b[0m\u001b[1;32m    845\u001b[0m                 \u001b[1;32mif\u001b[0m \u001b[1;32mnot\u001b[0m \u001b[0misinstance\u001b[0m\u001b[1;33m(\u001b[0m\u001b[0mouts\u001b[0m\u001b[1;33m,\u001b[0m \u001b[0mlist\u001b[0m\u001b[1;33m)\u001b[0m\u001b[1;33m:\u001b[0m\u001b[1;33m\u001b[0m\u001b[0m\n\u001b[1;32m    846\u001b[0m                     \u001b[0mouts\u001b[0m \u001b[1;33m=\u001b[0m \u001b[1;33m[\u001b[0m\u001b[0mouts\u001b[0m\u001b[1;33m]\u001b[0m\u001b[1;33m\u001b[0m\u001b[0m\n",
      "\u001b[0;32mc:\\users\\asesham\\anaconda3\\lib\\site-packages\\keras\\keras\\backend\\tensorflow_backend.py\u001b[0m in \u001b[0;36m__call__\u001b[0;34m(self, inputs)\u001b[0m\n\u001b[1;32m   1601\u001b[0m         \u001b[0msession\u001b[0m \u001b[1;33m=\u001b[0m \u001b[0mget_session\u001b[0m\u001b[1;33m(\u001b[0m\u001b[1;33m)\u001b[0m\u001b[1;33m\u001b[0m\u001b[0m\n\u001b[1;32m   1602\u001b[0m         updated = session.run(self.outputs + [self.updates_op],\n\u001b[0;32m-> 1603\u001b[0;31m                               feed_dict=feed_dict)\n\u001b[0m\u001b[1;32m   1604\u001b[0m         \u001b[1;32mreturn\u001b[0m \u001b[0mupdated\u001b[0m\u001b[1;33m[\u001b[0m\u001b[1;33m:\u001b[0m\u001b[0mlen\u001b[0m\u001b[1;33m(\u001b[0m\u001b[0mself\u001b[0m\u001b[1;33m.\u001b[0m\u001b[0moutputs\u001b[0m\u001b[1;33m)\u001b[0m\u001b[1;33m]\u001b[0m\u001b[1;33m\u001b[0m\u001b[0m\n\u001b[1;32m   1605\u001b[0m \u001b[1;33m\u001b[0m\u001b[0m\n",
      "\u001b[0;32mC:\\Users\\asesham\\Miniconda3\\lib\\site-packages\\tensorflow\\python\\client\\session.py\u001b[0m in \u001b[0;36mrun\u001b[0;34m(self, fetches, feed_dict, options, run_metadata)\u001b[0m\n\u001b[1;32m    764\u001b[0m     \u001b[1;32mtry\u001b[0m\u001b[1;33m:\u001b[0m\u001b[1;33m\u001b[0m\u001b[0m\n\u001b[1;32m    765\u001b[0m       result = self._run(None, fetches, feed_dict, options_ptr,\n\u001b[0;32m--> 766\u001b[0;31m                          run_metadata_ptr)\n\u001b[0m\u001b[1;32m    767\u001b[0m       \u001b[1;32mif\u001b[0m \u001b[0mrun_metadata\u001b[0m\u001b[1;33m:\u001b[0m\u001b[1;33m\u001b[0m\u001b[0m\n\u001b[1;32m    768\u001b[0m         \u001b[0mproto_data\u001b[0m \u001b[1;33m=\u001b[0m \u001b[0mtf_session\u001b[0m\u001b[1;33m.\u001b[0m\u001b[0mTF_GetBuffer\u001b[0m\u001b[1;33m(\u001b[0m\u001b[0mrun_metadata_ptr\u001b[0m\u001b[1;33m)\u001b[0m\u001b[1;33m\u001b[0m\u001b[0m\n",
      "\u001b[0;32mC:\\Users\\asesham\\Miniconda3\\lib\\site-packages\\tensorflow\\python\\client\\session.py\u001b[0m in \u001b[0;36m_run\u001b[0;34m(self, handle, fetches, feed_dict, options, run_metadata)\u001b[0m\n\u001b[1;32m    962\u001b[0m     \u001b[1;32mif\u001b[0m \u001b[0mfinal_fetches\u001b[0m \u001b[1;32mor\u001b[0m \u001b[0mfinal_targets\u001b[0m\u001b[1;33m:\u001b[0m\u001b[1;33m\u001b[0m\u001b[0m\n\u001b[1;32m    963\u001b[0m       results = self._do_run(handle, final_targets, final_fetches,\n\u001b[0;32m--> 964\u001b[0;31m                              feed_dict_string, options, run_metadata)\n\u001b[0m\u001b[1;32m    965\u001b[0m     \u001b[1;32melse\u001b[0m\u001b[1;33m:\u001b[0m\u001b[1;33m\u001b[0m\u001b[0m\n\u001b[1;32m    966\u001b[0m       \u001b[0mresults\u001b[0m \u001b[1;33m=\u001b[0m \u001b[1;33m[\u001b[0m\u001b[1;33m]\u001b[0m\u001b[1;33m\u001b[0m\u001b[0m\n",
      "\u001b[0;32mC:\\Users\\asesham\\Miniconda3\\lib\\site-packages\\tensorflow\\python\\client\\session.py\u001b[0m in \u001b[0;36m_do_run\u001b[0;34m(self, handle, target_list, fetch_list, feed_dict, options, run_metadata)\u001b[0m\n\u001b[1;32m   1012\u001b[0m     \u001b[1;32mif\u001b[0m \u001b[0mhandle\u001b[0m \u001b[1;32mis\u001b[0m \u001b[1;32mNone\u001b[0m\u001b[1;33m:\u001b[0m\u001b[1;33m\u001b[0m\u001b[0m\n\u001b[1;32m   1013\u001b[0m       return self._do_call(_run_fn, self._session, feed_dict, fetch_list,\n\u001b[0;32m-> 1014\u001b[0;31m                            target_list, options, run_metadata)\n\u001b[0m\u001b[1;32m   1015\u001b[0m     \u001b[1;32melse\u001b[0m\u001b[1;33m:\u001b[0m\u001b[1;33m\u001b[0m\u001b[0m\n\u001b[1;32m   1016\u001b[0m       return self._do_call(_prun_fn, self._session, handle, feed_dict,\n",
      "\u001b[0;32mC:\\Users\\asesham\\Miniconda3\\lib\\site-packages\\tensorflow\\python\\client\\session.py\u001b[0m in \u001b[0;36m_do_call\u001b[0;34m(self, fn, *args)\u001b[0m\n\u001b[1;32m   1019\u001b[0m   \u001b[1;32mdef\u001b[0m \u001b[0m_do_call\u001b[0m\u001b[1;33m(\u001b[0m\u001b[0mself\u001b[0m\u001b[1;33m,\u001b[0m \u001b[0mfn\u001b[0m\u001b[1;33m,\u001b[0m \u001b[1;33m*\u001b[0m\u001b[0margs\u001b[0m\u001b[1;33m)\u001b[0m\u001b[1;33m:\u001b[0m\u001b[1;33m\u001b[0m\u001b[0m\n\u001b[1;32m   1020\u001b[0m     \u001b[1;32mtry\u001b[0m\u001b[1;33m:\u001b[0m\u001b[1;33m\u001b[0m\u001b[0m\n\u001b[0;32m-> 1021\u001b[0;31m       \u001b[1;32mreturn\u001b[0m \u001b[0mfn\u001b[0m\u001b[1;33m(\u001b[0m\u001b[1;33m*\u001b[0m\u001b[0margs\u001b[0m\u001b[1;33m)\u001b[0m\u001b[1;33m\u001b[0m\u001b[0m\n\u001b[0m\u001b[1;32m   1022\u001b[0m     \u001b[1;32mexcept\u001b[0m \u001b[0merrors\u001b[0m\u001b[1;33m.\u001b[0m\u001b[0mOpError\u001b[0m \u001b[1;32mas\u001b[0m \u001b[0me\u001b[0m\u001b[1;33m:\u001b[0m\u001b[1;33m\u001b[0m\u001b[0m\n\u001b[1;32m   1023\u001b[0m       \u001b[0mmessage\u001b[0m \u001b[1;33m=\u001b[0m \u001b[0mcompat\u001b[0m\u001b[1;33m.\u001b[0m\u001b[0mas_text\u001b[0m\u001b[1;33m(\u001b[0m\u001b[0me\u001b[0m\u001b[1;33m.\u001b[0m\u001b[0mmessage\u001b[0m\u001b[1;33m)\u001b[0m\u001b[1;33m\u001b[0m\u001b[0m\n",
      "\u001b[0;32mC:\\Users\\asesham\\Miniconda3\\lib\\site-packages\\tensorflow\\python\\client\\session.py\u001b[0m in \u001b[0;36m_run_fn\u001b[0;34m(session, feed_dict, fetch_list, target_list, options, run_metadata)\u001b[0m\n\u001b[1;32m   1001\u001b[0m         return tf_session.TF_Run(session, options,\n\u001b[1;32m   1002\u001b[0m                                  \u001b[0mfeed_dict\u001b[0m\u001b[1;33m,\u001b[0m \u001b[0mfetch_list\u001b[0m\u001b[1;33m,\u001b[0m \u001b[0mtarget_list\u001b[0m\u001b[1;33m,\u001b[0m\u001b[1;33m\u001b[0m\u001b[0m\n\u001b[0;32m-> 1003\u001b[0;31m                                  status, run_metadata)\n\u001b[0m\u001b[1;32m   1004\u001b[0m \u001b[1;33m\u001b[0m\u001b[0m\n\u001b[1;32m   1005\u001b[0m     \u001b[1;32mdef\u001b[0m \u001b[0m_prun_fn\u001b[0m\u001b[1;33m(\u001b[0m\u001b[0msession\u001b[0m\u001b[1;33m,\u001b[0m \u001b[0mhandle\u001b[0m\u001b[1;33m,\u001b[0m \u001b[0mfeed_dict\u001b[0m\u001b[1;33m,\u001b[0m \u001b[0mfetch_list\u001b[0m\u001b[1;33m)\u001b[0m\u001b[1;33m:\u001b[0m\u001b[1;33m\u001b[0m\u001b[0m\n",
      "\u001b[0;31mKeyboardInterrupt\u001b[0m: "
     ]
    }
   ],
   "source": [
    "model.summary()\n",
    "\n",
    "model.compile(optimizer='rmsprop',\n",
    "          loss='binary_crossentropy',\n",
    "          metrics=['accuracy'])\n",
    "history = model.fit(X, Y, \n",
    "                    batch_size=32, nb_epoch=10, verbose=1, \n",
    "                    validation_data=(X_val,Y_val))"
   ]
  },
  {
   "cell_type": "code",
   "execution_count": null,
   "metadata": {
    "collapsed": true
   },
   "outputs": [],
   "source": []
  }
 ],
 "metadata": {
  "kernelspec": {
   "display_name": "Python 3",
   "language": "python",
   "name": "python3"
  },
  "language_info": {
   "codemirror_mode": {
    "name": "ipython",
    "version": 3
   },
   "file_extension": ".py",
   "mimetype": "text/x-python",
   "name": "python",
   "nbconvert_exporter": "python",
   "pygments_lexer": "ipython3",
   "version": "3.5.2"
  },
  "widgets": {
   "state": {},
   "version": "1.1.2"
  }
 },
 "nbformat": 4,
 "nbformat_minor": 2
}
